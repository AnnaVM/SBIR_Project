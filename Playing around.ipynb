{
 "cells": [
  {
   "cell_type": "code",
   "execution_count": 1,
   "metadata": {
    "collapsed": false
   },
   "outputs": [],
   "source": [
    "import pandas as pd\n",
    "import numpy as np\n",
    "from scipy import interp\n",
    "import matplotlib.pyplot as plt\n",
    "%matplotlib inline\n",
    "from unbalanced_dataset import SMOTE\n",
    "from sklearn.cross_validation import KFold\n",
    "from sklearn.ensemble import RandomForestClassifier\n",
    "\n",
    "from sklearn import metrics\n",
    "#from code in the GitHub Repro (https://github.com/AnnaVM/SBIR_Project)"
   ]
  },
  {
   "cell_type": "code",
   "execution_count": 2,
   "metadata": {
    "collapsed": false
   },
   "outputs": [
    {
     "name": "stdout",
     "output_type": "stream",
     "text": [
      "/Users/AnnaVMS/Desktop/Galvanize/SBIR-project/code\n"
     ]
    }
   ],
   "source": [
    "cd code"
   ]
  },
  {
   "cell_type": "code",
   "execution_count": 3,
   "metadata": {
    "collapsed": true
   },
   "outputs": [],
   "source": [
    "from prepare_data import subset_data\n",
    "from model import Model"
   ]
  },
  {
   "cell_type": "code",
   "execution_count": 4,
   "metadata": {
    "collapsed": false
   },
   "outputs": [
    {
     "name": "stdout",
     "output_type": "stream",
     "text": [
      "/Users/AnnaVMS/Desktop/Galvanize/SBIR-project\n"
     ]
    }
   ],
   "source": [
    "cd .."
   ]
  },
  {
   "cell_type": "code",
   "execution_count": null,
   "metadata": {
    "collapsed": true
   },
   "outputs": [],
   "source": []
  },
  {
   "cell_type": "code",
   "execution_count": 5,
   "metadata": {
    "collapsed": true
   },
   "outputs": [],
   "source": [
    "def tp_fp(labels, predicted_labels):\n",
    "    labels = np.array(labels)\n",
    "    predicted_labels = np.array(predicted_labels)\n",
    "    tp = sum((labels == predicted_labels) & (labels == 1))\n",
    "    tn = sum((labels == predicted_labels) & (labels == 0))\n",
    "    fp = sum((labels != predicted_labels) & (predicted_labels == 1))\n",
    "    fn = sum((labels != predicted_labels) & (predicted_labels == 0))\n",
    "    return tp, tn, fp, fn"
   ]
  },
  {
   "cell_type": "code",
   "execution_count": 6,
   "metadata": {
    "collapsed": true
   },
   "outputs": [],
   "source": [
    "def print_results(tp, tn, fp, fn):\n",
    "    print 'tp | ', tp\n",
    "    print 'tn | ',tn\n",
    "    print 'fp | ', fp\n",
    "    print 'fn | ', fn\n",
    "    accuracy = (tp+tn)*1./(tp+tn+fp+fn)\n",
    "    recall = tp*1./(tp + fn)\n",
    "    precision = tp*1./(tp + fp)\n",
    "    print 'accuracy : ',accuracy\n",
    "    print 'recall : ', recall\n",
    "    print 'precision : ', precision"
   ]
  },
  {
   "cell_type": "code",
   "execution_count": null,
   "metadata": {
    "collapsed": true
   },
   "outputs": [],
   "source": []
  },
  {
   "cell_type": "code",
   "execution_count": 7,
   "metadata": {
    "collapsed": false
   },
   "outputs": [
    {
     "name": "stdout",
     "output_type": "stream",
     "text": [
      "['2015-12-14_award_export_10001TO15000.csv', '2015-12-14_award_export_1TO5000.csv', '2015-12-14_award_export_5001TO10000.csv']\n"
     ]
    },
    {
     "name": "stderr",
     "output_type": "stream",
     "text": [
      "prepare_data.py:69: SettingWithCopyWarning: \n",
      "A value is trying to be set on a copy of a slice from a DataFrame.\n",
      "Try using .loc[row_indexer,col_indexer] = value instead\n",
      "\n",
      "See the caveats in the documentation: http://pandas.pydata.org/pandas-docs/stable/indexing.html#indexing-view-versus-copy\n"
     ]
    }
   ],
   "source": [
    "df = subset_data('dod', 2012, '/Users/AnnaVMS/Desktop/test2')"
   ]
  },
  {
   "cell_type": "code",
   "execution_count": 8,
   "metadata": {
    "collapsed": false
   },
   "outputs": [],
   "source": [
    "interp?"
   ]
  },
  {
   "cell_type": "code",
   "execution_count": 14,
   "metadata": {
    "collapsed": false
   },
   "outputs": [
    {
     "data": {
      "text/plain": [
       "<matplotlib.legend.Legend at 0x10b621810>"
      ]
     },
     "execution_count": 14,
     "metadata": {},
     "output_type": "execute_result"
    },
    {
     "data": {
      "image/png": "[encoded data removed]",
      "text/plain": [
       "<matplotlib.figure.Figure at 0x10b621790>"
      ]
     },
     "metadata": {},
     "output_type": "display_data"
    }
   ],
   "source": [
    "#defining a training and testing set (through indices)\n",
    "kf = KFold(1016,5, shuffle=True)\n",
    "index = 0\n",
    "\n",
    "mean_tpr = 0.0\n",
    "mean_fpr = 0.0\n",
    "mean_threshold = np.linspace(0., 1., 100)\n",
    "\n",
    "for train_index, test_index in kf:\n",
    "    model_test = Model(df, train_index, test_index)\n",
    "    model_test.process_text('Abstract')\n",
    "    model_test.prepare_LogReg()\n",
    "    model_test.perform_LogReg()\n",
    "    \n",
    "    prob = model_test.model_LogReg.predict_proba(model_test.LogReg_Xtest)\n",
    "    labels = model_test.LogReg_ytest\n",
    "    \n",
    "    fpr, tpr, thresholds = metrics.roc_curve(labels, prob[:,1])\n",
    "    \n",
    "    mean_tpr += interp(mean_threshold, thresholds[::-1], tpr[::-1])\n",
    "    mean_fpr += interp(mean_threshold, thresholds[::-1], fpr[::-1])\n",
    "    #mean_tpr[0] = 0.0\n",
    "    #mean_fpr[0] = 0.0\n",
    "    \n",
    "    plt.plot(fpr, tpr, label='logistic regression %s'%str(index), color='blue', alpha=0.2)\n",
    "    plt.plot([0,1], [0,1], ls='dashed', c='k')\n",
    "    plt.xlabel('FPR')\n",
    "    plt.ylabel('TPR')\n",
    "\n",
    "    index+=1\n",
    "\n",
    "\n",
    "mean_tpr = mean_tpr *1./5\n",
    "mean_fpr = mean_fpr *1./5\n",
    "plt.plot(mean_fpr, mean_tpr, lw=2, label='logistic regression average', color='blue')\n",
    "plt.legend(loc=4)"
   ]
  },
  {
   "cell_type": "code",
   "execution_count": 10,
   "metadata": {
    "collapsed": false
   },
   "outputs": [
    {
     "name": "stdout",
     "output_type": "stream",
     "text": [
      "0.3255874703\n",
      "0.104026313209\n"
     ]
    }
   ],
   "source": [
    "print mean_tpr[50]\n",
    "print mean_fpr[50]"
   ]
  },
  {
   "cell_type": "code",
   "execution_count": null,
   "metadata": {
    "collapsed": true
   },
   "outputs": [],
   "source": []
  },
  {
   "cell_type": "code",
   "execution_count": 11,
   "metadata": {
    "collapsed": false
   },
   "outputs": [],
   "source": [
    "\n",
    "predicted_labels = model_test.model_LogReg.predict(model_test.LogReg_Xtest)\n",
    "tp, tn, fp, fn = tp_fp(labels, predicted_labels)"
   ]
  },
  {
   "cell_type": "code",
   "execution_count": 12,
   "metadata": {
    "collapsed": false
   },
   "outputs": [
    {
     "name": "stdout",
     "output_type": "stream",
     "text": [
      "tp |  17\n",
      "tn |  131\n",
      "fp |  17\n",
      "fn |  38\n",
      "accuracy :  0.729064039409\n",
      "recall :  0.309090909091\n",
      "precision :  0.5\n"
     ]
    }
   ],
   "source": [
    "print_results(tp, tn, fp, fn)"
   ]
  },
  {
   "cell_type": "code",
   "execution_count": 13,
   "metadata": {
    "collapsed": false
   },
   "outputs": [
    {
     "ename": "NameError",
     "evalue": "name 'kf_iterator' is not defined",
     "output_type": "error",
     "traceback": [
      "\u001b[0;31m---------------------------------------------------------------------------\u001b[0m",
      "\u001b[0;31mNameError\u001b[0m                                 Traceback (most recent call last)",
      "\u001b[0;32m<ipython-input-13-f2dd01198461>\u001b[0m in \u001b[0;36m<module>\u001b[0;34m()\u001b[0m\n\u001b[0;32m----> 1\u001b[0;31m \u001b[0mtrain_index\u001b[0m\u001b[0;34m,\u001b[0m \u001b[0mtest_index\u001b[0m \u001b[0;34m=\u001b[0m \u001b[0mkf_iterator\u001b[0m\u001b[0;34m.\u001b[0m\u001b[0mnext\u001b[0m\u001b[0;34m(\u001b[0m\u001b[0;34m)\u001b[0m\u001b[0;34m\u001b[0m\u001b[0m\n\u001b[0m\u001b[1;32m      2\u001b[0m \u001b[0mmodel_test\u001b[0m \u001b[0;34m=\u001b[0m \u001b[0mModel\u001b[0m\u001b[0;34m(\u001b[0m\u001b[0mdf\u001b[0m\u001b[0;34m,\u001b[0m \u001b[0mtrain_index\u001b[0m\u001b[0;34m,\u001b[0m \u001b[0mtest_index\u001b[0m\u001b[0;34m)\u001b[0m\u001b[0;34m\u001b[0m\u001b[0m\n\u001b[1;32m      3\u001b[0m \u001b[0mmodel_test\u001b[0m\u001b[0;34m.\u001b[0m\u001b[0mprocess_text\u001b[0m\u001b[0;34m(\u001b[0m\u001b[0;34m'Abstract'\u001b[0m\u001b[0;34m)\u001b[0m\u001b[0;34m\u001b[0m\u001b[0m\n\u001b[1;32m      4\u001b[0m \u001b[0mmodel_test\u001b[0m\u001b[0;34m.\u001b[0m\u001b[0mprepare_LogReg\u001b[0m\u001b[0;34m(\u001b[0m\u001b[0;34m)\u001b[0m\u001b[0;34m\u001b[0m\u001b[0m\n\u001b[1;32m      5\u001b[0m \u001b[0mmodel_test\u001b[0m\u001b[0;34m.\u001b[0m\u001b[0mperform_LogReg\u001b[0m\u001b[0;34m(\u001b[0m\u001b[0;34m)\u001b[0m\u001b[0;34m\u001b[0m\u001b[0m\n",
      "\u001b[0;31mNameError\u001b[0m: name 'kf_iterator' is not defined"
     ]
    }
   ],
   "source": [
    "train_index, test_index = kf_iterator.next()\n",
    "model_test = Model(df, train_index, test_index)\n",
    "model_test.process_text('Abstract')\n",
    "model_test.prepare_LogReg()\n",
    "model_test.perform_LogReg()\n",
    "labels = model_test.LogReg_ytest\n",
    "predicted_labels = model_test.model_LogReg.predict(model_test.LogReg_Xtest)\n",
    "tp1, tn1, fp1, fn1 = tp_fp(labels, predicted_labels)"
   ]
  },
  {
   "cell_type": "code",
   "execution_count": null,
   "metadata": {
    "collapsed": false
   },
   "outputs": [],
   "source": [
    "print_results(tp1, tn1, fp1, fn1)"
   ]
  },
  {
   "cell_type": "code",
   "execution_count": null,
   "metadata": {
    "collapsed": true
   },
   "outputs": [],
   "source": [
    "train_index, test_index = kf_iterator.next()\n",
    "model_test = Model(df, train_index, test_index)\n",
    "model_test.process_text('Abstract')\n",
    "model_test.prepare_LogReg()\n",
    "model_test.perform_LogReg()\n",
    "labels = model_test.LogReg_ytest\n",
    "predicted_labels = model_test.model_LogReg.predict(model_test.LogReg_Xtest)\n",
    "tp2, tn2, fp2, fn2 = tp_fp(labels, predicted_labels)"
   ]
  },
  {
   "cell_type": "code",
   "execution_count": null,
   "metadata": {
    "collapsed": false
   },
   "outputs": [],
   "source": [
    "print_results(tp2, tn2, fp2, fn2)"
   ]
  },
  {
   "cell_type": "code",
   "execution_count": null,
   "metadata": {
    "collapsed": false
   },
   "outputs": [],
   "source": [
    "fpr, tpr, thresholds = metrics.roc_curve(labels, prob[:,1])"
   ]
  },
  {
   "cell_type": "code",
   "execution_count": null,
   "metadata": {
    "collapsed": false
   },
   "outputs": [],
   "source": [
    "plt.plot(fpr, tpr, label='logistic regression')\n",
    "plt.plot([0,1], [0,1], ls='dashed', c='k')\n",
    "plt.xlabel('FPR')\n",
    "plt.ylabel('TPR')\n",
    "plt.legend(loc=4)"
   ]
  },
  {
   "cell_type": "code",
   "execution_count": null,
   "metadata": {
    "collapsed": true
   },
   "outputs": [],
   "source": [
    "metrics.roc_curve?"
   ]
  },
  {
   "cell_type": "code",
   "execution_count": null,
   "metadata": {
    "collapsed": true
   },
   "outputs": [],
   "source": []
  }
 ],
 "metadata": {
  "kernelspec": {
   "display_name": "Python 2",
   "language": "python",
   "name": "python2"
  },
  "language_info": {
   "codemirror_mode": {
    "name": "ipython",
    "version": 2
   },
   "file_extension": ".py",
   "mimetype": "text/x-python",
   "name": "python",
   "nbconvert_exporter": "python",
   "pygments_lexer": "ipython2",
   "version": "2.7.11"
  }
 },
 "nbformat": 4,
 "nbformat_minor": 0
}
